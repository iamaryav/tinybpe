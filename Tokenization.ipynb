{
 "cells": [
  {
   "cell_type": "code",
   "execution_count": 1,
   "metadata": {},
   "outputs": [],
   "source": [
    "# Tokenization is the process of converting String or Text in to token and vice versa\n",
    "# Translation between raw text and token sequence both ways - Tokenizer"
   ]
  },
  {
   "cell_type": "code",
   "execution_count": null,
   "metadata": {},
   "outputs": [],
   "source": [
    "# Tokenizer algo\n",
    "# Tokenizer training\n",
    "# Encoder and dcoder\n",
    "# pip install tiktoken\n"
   ]
  },
  {
   "cell_type": "code",
   "execution_count": 3,
   "metadata": {},
   "outputs": [
    {
     "name": "stdout",
     "output_type": "stream",
     "text": [
      "Hello World\n"
     ]
    }
   ],
   "source": [
    "print(\"Hello World\")"
   ]
  },
  {
   "cell_type": "code",
   "execution_count": 5,
   "metadata": {},
   "outputs": [
    {
     "name": "stdout",
     "output_type": "stream",
     "text": [
      "T h\n",
      "h i\n",
      "i s\n",
      "s  \n",
      "  i\n",
      "i s\n",
      "s  \n",
      "  f\n",
      "f i\n",
      "i r\n",
      "r s\n",
      "s t\n",
      "t  \n",
      "  e\n",
      "e x\n",
      "x a\n",
      "a m\n",
      "m p\n",
      "p l\n",
      "l e\n"
     ]
    }
   ],
   "source": [
    "# dataset\n",
    "# bpe - byte pair encoding\n",
    "data = \"This is first example\"\n",
    "\n",
    "for ch1, ch2 in zip(data, data[1:]):\n",
    "    print(ch1, ch2)"
   ]
  },
  {
   "cell_type": "code",
   "execution_count": 6,
   "metadata": {},
   "outputs": [
    {
     "data": {
      "text/plain": [
       "[84,\n",
       " 104,\n",
       " 105,\n",
       " 115,\n",
       " 32,\n",
       " 105,\n",
       " 115,\n",
       " 32,\n",
       " 102,\n",
       " 105,\n",
       " 114,\n",
       " 115,\n",
       " 116,\n",
       " 32,\n",
       " 101,\n",
       " 120,\n",
       " 97,\n",
       " 109,\n",
       " 112,\n",
       " 108,\n",
       " 101]"
      ]
     },
     "execution_count": 6,
     "metadata": {},
     "output_type": "execute_result"
    }
   ],
   "source": [
    "[ord(ch) for ch in data]"
   ]
  },
  {
   "cell_type": "code",
   "execution_count": null,
   "metadata": {},
   "outputs": [],
   "source": []
  }
 ],
 "metadata": {
  "kernelspec": {
   "display_name": "Python 3",
   "language": "python",
   "name": "python3"
  },
  "language_info": {
   "codemirror_mode": {
    "name": "ipython",
    "version": 3
   },
   "file_extension": ".py",
   "mimetype": "text/x-python",
   "name": "python",
   "nbconvert_exporter": "python",
   "pygments_lexer": "ipython3",
   "version": "3.10.12"
  }
 },
 "nbformat": 4,
 "nbformat_minor": 2
}
