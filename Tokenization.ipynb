{
 "cells": [
  {
   "cell_type": "code",
   "execution_count": 7,
   "metadata": {},
   "outputs": [],
   "source": [
    "# Tokenization is the process of converting String or Text in to token and vice versa\n",
    "# Translation between raw text and token sequence both ways - Tokenizer"
   ]
  },
  {
   "cell_type": "code",
   "execution_count": 8,
   "metadata": {},
   "outputs": [],
   "source": [
    "# Tokenizer algo\n",
    "# Tokenizer training\n",
    "# Encoder and dcoder\n",
    "# pip install tiktoken\n"
   ]
  },
  {
   "cell_type": "code",
   "execution_count": 9,
   "metadata": {},
   "outputs": [
    {
     "name": "stdout",
     "output_type": "stream",
     "text": [
      "Hello World\n"
     ]
    }
   ],
   "source": [
    "print(\"Hello World\")"
   ]
  },
  {
   "cell_type": "code",
   "execution_count": 10,
   "metadata": {},
   "outputs": [
    {
     "name": "stdout",
     "output_type": "stream",
     "text": [
      "T h\n",
      "h i\n",
      "i s\n",
      "s  \n",
      "  i\n",
      "i s\n",
      "s  \n",
      "  f\n",
      "f i\n",
      "i r\n",
      "r s\n",
      "s t\n",
      "t  \n",
      "  e\n",
      "e x\n",
      "x a\n",
      "a m\n",
      "m p\n",
      "p l\n",
      "l e\n"
     ]
    }
   ],
   "source": [
    "# dataset\n",
    "# bpe - byte pair encoding\n",
    "# \n",
    "data = \"This is first example\"\n",
    "\n",
    "for ch1, ch2 in zip(data, data[1:]):\n",
    "    print(ch1, ch2)"
   ]
  },
  {
   "cell_type": "code",
   "execution_count": 18,
   "metadata": {},
   "outputs": [
    {
     "name": "stdout",
     "output_type": "stream",
     "text": [
      "[84, 104, 105, 115, 32, 105, 115, 32, 102, 105, 114, 115, 116, 32, 101, 120, 97, 109, 112, 108, 101]\n",
      "[84, 104, 105, 115, 32, 105, 115, 32, 102, 105, 114, 115, 116, 32, 101, 120, 97, 109, 112, 108, 101]\n"
     ]
    }
   ],
   "source": [
    "uni = [ord(ch) for ch in data]\n",
    "utf_8 = [ch for ch in data.encode(\"utf-8\")]\n",
    "print(uni)\n",
    "print(utf_8)"
   ]
  },
  {
   "cell_type": "code",
   "execution_count": null,
   "metadata": {},
   "outputs": [],
   "source": []
  },
  {
   "cell_type": "code",
   "execution_count": null,
   "metadata": {},
   "outputs": [],
   "source": []
  }
 ],
 "metadata": {
  "kernelspec": {
   "display_name": "Python 3",
   "language": "python",
   "name": "python3"
  },
  "language_info": {
   "codemirror_mode": {
    "name": "ipython",
    "version": 3
   },
   "file_extension": ".py",
   "mimetype": "text/x-python",
   "name": "python",
   "nbconvert_exporter": "python",
   "pygments_lexer": "ipython3",
   "version": "3.10.12"
  }
 },
 "nbformat": 4,
 "nbformat_minor": 2
}
